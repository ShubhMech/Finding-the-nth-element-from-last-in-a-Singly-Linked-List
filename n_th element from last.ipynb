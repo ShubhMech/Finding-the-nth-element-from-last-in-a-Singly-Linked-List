{
 "cells": [
  {
   "cell_type": "code",
   "execution_count": 202,
   "id": "bf2a60cf-2a2e-435d-a45a-801c74f7a6ca",
   "metadata": {},
   "outputs": [
    {
     "name": "stdout",
     "output_type": "stream",
     "text": [
      "<__main__.Nodes object at 0x00000200F884C700>\n",
      "<__main__.Nodes object at 0x00000200F884C700>\n",
      "<__main__.Nodes object at 0x00000200F737ADF0>\n",
      "<__main__.Nodes object at 0x00000200F737ADF0>\n",
      "None\n",
      "<__main__.Nodes object at 0x00000200F737ADF0>\n",
      "<__main__.Nodes object at 0x00000200F884C700>\n"
     ]
    }
   ],
   "source": [
    "class Nodes:\n",
    "    def __init__(self, value=None):\n",
    "        self.value= value\n",
    "        self.next= None\n",
    "    \n",
    "    \n",
    "class SlinkedList:\n",
    "    def __init__(self):\n",
    "        self.head=None\n",
    "        self.tail= None\n",
    "        \n",
    "    def insert(self,value,location):\n",
    "        newNode=Nodes(value)\n",
    "        if self.head ==None:\n",
    "            self.head=newNode\n",
    "            self.tail=newNode\n",
    "            \n",
    "        elif location==0:\n",
    "#             newNode=Nodes(value)\n",
    "            newNode.next=self.head\n",
    "            self.head=newNode\n",
    "            \n",
    "        elif location==-1:\n",
    "#             newNode=Nodes(value)\n",
    "            self.tail.next=newNode\n",
    "            self.tail=newNode\n",
    "            \n",
    "        else:\n",
    "            temp_node=self.head\n",
    "            i=0\n",
    "            while i<location-1:\n",
    "                temp_node=temp_node.next\n",
    "                i += 1\n",
    "                \n",
    "            newNode.next=temp_node.next\n",
    "            temp_node.next=newNode\n",
    "                \n",
    "            if temp_node== self.tail:\n",
    "                self.tail=newNode\n",
    "        \n",
    "        return newNode\n",
    "\n",
    "                \n",
    "                \n",
    "ob1= SlinkedList()\n",
    "\n",
    "node1=ob1.insert(1,0)\n",
    "print(ob1.head)\n",
    "print(ob1.tail)\n",
    "\n",
    "node2=ob1.insert(2,-1)\n",
    "print(node1.next)\n",
    "print(ob1.tail)\n",
    "\n",
    "node3= ob1.insert(3,0)\n",
    "print(node2.next)\n",
    "print(ob1.tail)\n",
    "\n",
    "print(node3.next)\n",
    "                \n",
    "node1.next==node2\n",
    "\n",
    "node4=ob1.insert(4,2)\n"
   ]
  },
  {
   "cell_type": "code",
   "execution_count": 203,
   "id": "ad180ce6-dce0-403c-8e53-877beef0a805",
   "metadata": {},
   "outputs": [],
   "source": [
    "def node_traversal(head):\n",
    "    i=0\n",
    "    temp=head\n",
    "    if head is None:\n",
    "        print(\"No nodes to print\")\n",
    "    while(True):\n",
    "        print(f\"The {i}th node is:\")\n",
    "        \n",
    "        print(temp)\n",
    "        print(f\"The value of the node is: {temp.value}\" )\n",
    "               \n",
    "        temp=temp.next \n",
    "        \n",
    "        \n",
    "        if temp is None:\n",
    "            break\n",
    "#             print(\"The next node for this node is: \", temp.next )\n",
    "\n",
    "        i +=1\n",
    "        "
   ]
  },
  {
   "cell_type": "code",
   "execution_count": 204,
   "id": "af94136a-d61a-4f59-a206-7b66951795f3",
   "metadata": {},
   "outputs": [
    {
     "name": "stdout",
     "output_type": "stream",
     "text": [
      "The node where the value is found is:  2\n"
     ]
    },
    {
     "data": {
      "text/plain": [
       "('And the node is: ', <__main__.Nodes at 0x200f737adf0>)"
      ]
     },
     "execution_count": 204,
     "metadata": {},
     "output_type": "execute_result"
    }
   ],
   "source": [
    "def search(head,num):\n",
    "    if head==None:\n",
    "        print(\"The list doesn't exist\")\n",
    "    elif head.value==num:\n",
    "        print(\"Found at the first node, and the element is:\", num)\n",
    "    else:\n",
    "        temp = head\n",
    "        while(temp is not None):\n",
    "            if temp.value==num:\n",
    "                print(\"The node where the value is found is: \", temp.value )\n",
    "                return (\"And the node is: \", temp)\n",
    "#                 break\n",
    "\n",
    "            elif temp.next==None:\n",
    "                print(\"The value is not found\")\n",
    "                break\n",
    "            else:\n",
    "                \n",
    "                temp=temp.next\n",
    "            \n",
    "            \n",
    "search(ob1.head,2)"
   ]
  },
  {
   "cell_type": "code",
   "execution_count": 205,
   "id": "29efced6-e12c-4d64-864d-c27f9fa72048",
   "metadata": {},
   "outputs": [],
   "source": [
    "node3= ob1.insert(3,2)"
   ]
  },
  {
   "cell_type": "code",
   "execution_count": 206,
   "id": "52f7df87-8af9-4fa5-9204-96b7fad29865",
   "metadata": {},
   "outputs": [],
   "source": [
    "node3= ob1.insert(13,2)"
   ]
  },
  {
   "cell_type": "code",
   "execution_count": 207,
   "id": "26ca72c4-7b28-4506-a949-010a16f915b5",
   "metadata": {},
   "outputs": [],
   "source": [
    "node3= ob1.insert(23,4)"
   ]
  },
  {
   "cell_type": "code",
   "execution_count": 208,
   "id": "1a7e4816-b1fc-4ab4-be1e-a6296998ac8e",
   "metadata": {},
   "outputs": [],
   "source": [
    "node3= ob1.insert(33,6)"
   ]
  },
  {
   "cell_type": "code",
   "execution_count": 209,
   "id": "075b159e-26d9-4a64-b22f-d2d8b20d6162",
   "metadata": {},
   "outputs": [],
   "source": [
    "node3= ob1.insert(43,3)"
   ]
  },
  {
   "cell_type": "code",
   "execution_count": 210,
   "id": "9517410c-8e74-49f5-b131-115904669d73",
   "metadata": {},
   "outputs": [],
   "source": [
    "node3= ob1.insert(53,1)"
   ]
  },
  {
   "cell_type": "code",
   "execution_count": 211,
   "id": "4c27aac8-56cc-4e14-975e-fc970e4ac0ec",
   "metadata": {},
   "outputs": [],
   "source": [
    "node3= ob1.insert(63,2)"
   ]
  },
  {
   "cell_type": "code",
   "execution_count": 212,
   "id": "9d4d8aa8-a091-4991-a808-6ae29c59aec7",
   "metadata": {},
   "outputs": [],
   "source": [
    "node3= ob1.insert(73,5)"
   ]
  },
  {
   "cell_type": "code",
   "execution_count": 213,
   "id": "973b8e18-193e-418f-9a34-6e3e4e4eb3bd",
   "metadata": {},
   "outputs": [],
   "source": [
    "node3= ob1.insert(83,6)"
   ]
  },
  {
   "cell_type": "code",
   "execution_count": 214,
   "id": "aea226a6-65ee-47da-a512-16e676ba5b10",
   "metadata": {},
   "outputs": [
    {
     "data": {
      "text/plain": [
       "<__main__.Nodes at 0x200f8359970>"
      ]
     },
     "execution_count": 214,
     "metadata": {},
     "output_type": "execute_result"
    }
   ],
   "source": [
    "ob1.insert(2,-1)"
   ]
  },
  {
   "cell_type": "code",
   "execution_count": 215,
   "id": "83c00de0-0787-4df6-a166-27a8385a0a17",
   "metadata": {},
   "outputs": [
    {
     "name": "stdout",
     "output_type": "stream",
     "text": [
      "The 0th node is:\n",
      "<__main__.Nodes object at 0x00000200F8CD8F10>\n",
      "The value of the node is: 3\n",
      "The 1th node is:\n",
      "<__main__.Nodes object at 0x00000200F835B790>\n",
      "The value of the node is: 53\n",
      "The 2th node is:\n",
      "<__main__.Nodes object at 0x00000200F8359220>\n",
      "The value of the node is: 63\n",
      "The 3th node is:\n",
      "<__main__.Nodes object at 0x00000200F884C700>\n",
      "The value of the node is: 1\n",
      "The 4th node is:\n",
      "<__main__.Nodes object at 0x00000200F835B610>\n",
      "The value of the node is: 13\n",
      "The 5th node is:\n",
      "<__main__.Nodes object at 0x00000200F8558F40>\n",
      "The value of the node is: 73\n",
      "The 6th node is:\n",
      "<__main__.Nodes object at 0x00000200F84E2970>\n",
      "The value of the node is: 83\n",
      "The 7th node is:\n",
      "<__main__.Nodes object at 0x00000200F84E2700>\n",
      "The value of the node is: 43\n",
      "The 8th node is:\n",
      "<__main__.Nodes object at 0x00000200F8373D60>\n",
      "The value of the node is: 3\n",
      "The 9th node is:\n",
      "<__main__.Nodes object at 0x00000200F837BCD0>\n",
      "The value of the node is: 23\n",
      "The 10th node is:\n",
      "<__main__.Nodes object at 0x00000200F8CD89D0>\n",
      "The value of the node is: 4\n",
      "The 11th node is:\n",
      "<__main__.Nodes object at 0x00000200F8558D00>\n",
      "The value of the node is: 33\n",
      "The 12th node is:\n",
      "<__main__.Nodes object at 0x00000200F737ADF0>\n",
      "The value of the node is: 2\n",
      "The 13th node is:\n",
      "<__main__.Nodes object at 0x00000200F8359970>\n",
      "The value of the node is: 2\n"
     ]
    }
   ],
   "source": [
    "node_traversal(ob1.head)"
   ]
  },
  {
   "cell_type": "markdown",
   "id": "095005f7-eb47-4b6e-9869-ccc59b7683e8",
   "metadata": {},
   "source": [
    "## We can see that the node at the first and the third place have same values, we have find this node and remove it from the list"
   ]
  },
  {
   "cell_type": "markdown",
   "id": "03967bed-19e2-41b3-9e5d-4338417e1663",
   "metadata": {},
   "source": [
    "#### We can sue search algorithm to search for the value in the list and then delete it from the list\n"
   ]
  },
  {
   "cell_type": "code",
   "execution_count": 216,
   "id": "8dfb9a68-8933-40ef-9021-91bc5765b42f",
   "metadata": {},
   "outputs": [],
   "source": [
    "def delete(ob,value):\n",
    "    head=ob.head\n",
    "    try:\n",
    "        if head is None:\n",
    "            print(\"There is nothing to delete!\")\n",
    "        elif head.value==value:\n",
    "            next_=head.next\n",
    "            ob.head=next_\n",
    "\n",
    "        else:\n",
    "            prev=head\n",
    "            while(True):\n",
    "                temp=prev.next\n",
    "\n",
    "                if temp.value==value and prev.next==None:\n",
    "                    prev.next=None\n",
    "                    ob.tail=prev\n",
    "                    break\n",
    "\n",
    "                elif  temp.value != value and prev.next==None:\n",
    "                    print(\"Value not found\")\n",
    "\n",
    "                elif temp.value==value:\n",
    "                    prev.next= temp.next\n",
    "                    break\n",
    "\n",
    "                prev=temp\n",
    "\n",
    "    except:\n",
    "        print(\"Value isn't at any of the node!!\")\n",
    "            "
   ]
  },
  {
   "cell_type": "markdown",
   "id": "9d62ef1e-393a-42b8-8b16-13bfa3e668b6",
   "metadata": {},
   "source": [
    "#### Running the traversal algorithm with some modifications"
   ]
  },
  {
   "cell_type": "code",
   "execution_count": 217,
   "id": "a5cdb66c-e6d9-42b0-9ab9-d0ca740dc904",
   "metadata": {},
   "outputs": [],
   "source": [
    "def dup_removal(ob):\n",
    "    if ob.head==None:\n",
    "        print(\"The list doesn't exist!\")\n",
    "        \n",
    "    else:\n",
    "        values=[]\n",
    "        values.append(ob.head.value)\n",
    "        temp=ob.head\n",
    "        \n",
    "        while (True):\n",
    "            if temp.next is not None:\n",
    "                print(values)\n",
    "                \n",
    "                temp1=temp.next\n",
    "                if temp1.value in values:\n",
    "                    temp.next=temp1.next\n",
    "                else:\n",
    "                    values.append(temp1.value)\n",
    "                temp=temp1\n",
    "                \n",
    "            else:\n",
    "                break"
   ]
  },
  {
   "cell_type": "code",
   "execution_count": 218,
   "id": "7a006931-c1d3-4105-86fd-8ce095b1d387",
   "metadata": {},
   "outputs": [
    {
     "name": "stdout",
     "output_type": "stream",
     "text": [
      "[3]\n",
      "[3, 53]\n",
      "[3, 53, 63]\n",
      "[3, 53, 63, 1]\n",
      "[3, 53, 63, 1, 13]\n",
      "[3, 53, 63, 1, 13, 73]\n",
      "[3, 53, 63, 1, 13, 73, 83]\n",
      "[3, 53, 63, 1, 13, 73, 83, 43]\n",
      "[3, 53, 63, 1, 13, 73, 83, 43]\n",
      "[3, 53, 63, 1, 13, 73, 83, 43, 23]\n",
      "[3, 53, 63, 1, 13, 73, 83, 43, 23, 4]\n",
      "[3, 53, 63, 1, 13, 73, 83, 43, 23, 4, 33]\n",
      "[3, 53, 63, 1, 13, 73, 83, 43, 23, 4, 33, 2]\n"
     ]
    }
   ],
   "source": [
    "dup_removal(ob1)"
   ]
  },
  {
   "cell_type": "code",
   "execution_count": 219,
   "id": "4cbeb528-b504-4f6a-b749-7f47757c7272",
   "metadata": {},
   "outputs": [
    {
     "name": "stdout",
     "output_type": "stream",
     "text": [
      "The 0th node is:\n",
      "<__main__.Nodes object at 0x00000200F8CD8F10>\n",
      "The value of the node is: 3\n",
      "The 1th node is:\n",
      "<__main__.Nodes object at 0x00000200F835B790>\n",
      "The value of the node is: 53\n",
      "The 2th node is:\n",
      "<__main__.Nodes object at 0x00000200F8359220>\n",
      "The value of the node is: 63\n",
      "The 3th node is:\n",
      "<__main__.Nodes object at 0x00000200F884C700>\n",
      "The value of the node is: 1\n",
      "The 4th node is:\n",
      "<__main__.Nodes object at 0x00000200F835B610>\n",
      "The value of the node is: 13\n",
      "The 5th node is:\n",
      "<__main__.Nodes object at 0x00000200F8558F40>\n",
      "The value of the node is: 73\n",
      "The 6th node is:\n",
      "<__main__.Nodes object at 0x00000200F84E2970>\n",
      "The value of the node is: 83\n",
      "The 7th node is:\n",
      "<__main__.Nodes object at 0x00000200F84E2700>\n",
      "The value of the node is: 43\n",
      "The 8th node is:\n",
      "<__main__.Nodes object at 0x00000200F837BCD0>\n",
      "The value of the node is: 23\n",
      "The 9th node is:\n",
      "<__main__.Nodes object at 0x00000200F8CD89D0>\n",
      "The value of the node is: 4\n",
      "The 10th node is:\n",
      "<__main__.Nodes object at 0x00000200F8558D00>\n",
      "The value of the node is: 33\n",
      "The 11th node is:\n",
      "<__main__.Nodes object at 0x00000200F737ADF0>\n",
      "The value of the node is: 2\n"
     ]
    }
   ],
   "source": [
    "node_traversal(ob1.head)"
   ]
  },
  {
   "cell_type": "code",
   "execution_count": 220,
   "id": "93ceba7f-517a-42c3-903b-8c9eb5907566",
   "metadata": {},
   "outputs": [],
   "source": [
    "def nth_last(ob,n):\n",
    "    if ob.head==None:\n",
    "        print(\"The list doesn't exist!\")\n",
    "    else:\n",
    "#         i=0\n",
    "        elements=[]\n",
    "        temp=ob.head\n",
    "        while(True):\n",
    "            temp1=temp.next\n",
    "            if temp1 is not None:\n",
    "                elements.append(temp1.value)\n",
    "            \n",
    "            \n",
    "            \n",
    "            else:\n",
    "                break\n",
    "            temp=temp1\n",
    "            \n",
    "    return elements[-n]\n",
    "        "
   ]
  },
  {
   "cell_type": "code",
   "execution_count": 222,
   "id": "0bd2a3ef-16db-461f-9ef1-72e0d1916f7b",
   "metadata": {},
   "outputs": [
    {
     "data": {
      "text/plain": [
       "13"
      ]
     },
     "execution_count": 222,
     "metadata": {},
     "output_type": "execute_result"
    }
   ],
   "source": [
    "nth_last(ob1,8)"
   ]
  },
  {
   "cell_type": "code",
   "execution_count": null,
   "id": "b92e706e-d566-46ca-b38e-b647c4fd0301",
   "metadata": {},
   "outputs": [],
   "source": []
  }
 ],
 "metadata": {
  "kernelspec": {
   "display_name": "Python 3",
   "language": "python",
   "name": "python3"
  },
  "language_info": {
   "codemirror_mode": {
    "name": "ipython",
    "version": 3
   },
   "file_extension": ".py",
   "mimetype": "text/x-python",
   "name": "python",
   "nbconvert_exporter": "python",
   "pygments_lexer": "ipython3",
   "version": "3.8.5"
  }
 },
 "nbformat": 4,
 "nbformat_minor": 5
}
